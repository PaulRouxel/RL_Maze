{
 "cells": [
  {
   "cell_type": "code",
   "execution_count": null,
   "metadata": {},
   "outputs": [],
   "source": [
    "import numpy as np"
   ]
  },
  {
   "cell_type": "markdown",
   "metadata": {},
   "source": [
    "<h3>Setting up the parameters"
   ]
  },
  {
   "cell_type": "code",
   "execution_count": null,
   "metadata": {},
   "outputs": [],
   "source": [
    "dE=1E5                         #total changes between two iterations\n",
    "thresh = 1E-3                  #dE tresh of change\n",
    "discount = 0.9                 #discount factor\n",
    "max_itera = 1E2                #before exiting the loop\n",
    "\n",
    "x1_size = 20                   #the range is (2, 20)\n",
    "x2_size = 20                   #the range is (2, 20)\n",
    "nb_obstacles = 200             #the maximum of obstacles is (x1_size * x2_size) - (x1_size + x2_size ) + 1 in theory but might be lower if the first obstacles create a turn, which will make impossible to find a way from start to end\n",
    "nb_checkpoints = 100           #the maximum of checkpoints is (x1_size * x2_size) -2, all the case except the end and start\n",
    "rewards = [1000, 0.01, -0.02]    #rewards for [end, checkpoints, else]\n",
    "\n",
    "#Note that as the grid_size goes up (same with the number of checkpoints), the end reward has to go up (because the big reward is more far away)"
   ]
  },
  {
   "cell_type": "markdown",
   "metadata": {},
   "source": [
    "<h3>Reward, state and actions functions "
   ]
  },
  {
   "cell_type": "code",
   "execution_count": null,
   "metadata": {},
   "outputs": [],
   "source": [
    "#reward function for the state-value\n",
    "def R(s, checkpoints, end_state, rewards):\n",
    "    if s == end_state: return rewards[0]\n",
    "    elif s in checkpoints: return rewards[1]\n",
    "    else: return rewards [2]\n",
    "    \n",
    "#get the next possibles states and actions of the current state\n",
    "def getNextStatesAndNextActions(state, actions, states):\n",
    "    next_states = []\n",
    "    next_actions = []\n",
    "    for a in actions:\n",
    "        next_state = (state[0] + actions[a][0], state[1] + actions[a][1])\n",
    "        if next_state in states:\n",
    "            next_states.append(next_state)\n",
    "            next_actions.append(a)\n",
    "    return next_states, next_actions\n",
    "\n",
    "#when going in a direction, the robot also check the right and left state-value\n",
    "def getLeftRightNextStates(state, next_state, states):\n",
    "    direction = (next_state[0] - state[0], next_state[1] - state[1])\n",
    "    left_offset = (direction[1], -direction[0])  # Rotate 90° counterclockwise\n",
    "    right_offset = (-direction[1], direction[0]) # Rotate 90° clockwise\n",
    "\n",
    "    left_state = (state[0] + left_offset[0], state[1] + left_offset[1])\n",
    "    right_state = (state[0] + right_offset[0], state[1] + right_offset[1])\n",
    "\n",
    "    left_state = left_state if left_state in states else state  # Ensure valid states\n",
    "    right_state = right_state if right_state in states else state\n",
    "\n",
    "    return left_state, right_state"
   ]
  },
  {
   "cell_type": "markdown",
   "metadata": {},
   "source": [
    "<h3>Creating the grid and ensure it can be solved"
   ]
  },
  {
   "cell_type": "code",
   "execution_count": null,
   "metadata": {},
   "outputs": [],
   "source": [
    "#Using BFS, ensure that a way is possible from the start to the end\n",
    "def isReachable(start_state, end_state, states):\n",
    "    queue = [start_state]\n",
    "    visited = set()\n",
    "    \n",
    "    while len(queue)>0:\n",
    "        x, y = queue.pop(0)\n",
    "        \n",
    "        if (x,y) == end_state:\n",
    "            return True\n",
    "        \n",
    "        if (x,y) in visited:\n",
    "            continue\n",
    "        visited.add((x,y))\n",
    "        \n",
    "        for dx, dy in [(-1,0),(1,0),(0,-1),(0,1)]:\n",
    "            new_x, new_y = x + dx, y + dy\n",
    "            if((new_x, new_y) in states and (new_x, new_y) not in visited):\n",
    "                queue.append((new_x, new_y))    \n",
    "    return False\n",
    "    \n",
    "\n",
    "#creating the grid with the obstacles and checkpoints\n",
    "def createGrid(x1_size, x2_size, nb_obstacles, nb_checkpoints):\n",
    "    states = set((i,j) for i in range(x1_size) for j in range(x2_size))\n",
    "    end_state = (x1_size-1, x2_size-1)\n",
    "    start_state = (0,0)\n",
    "    obstacles = set()\n",
    "    checkpoints = set()\n",
    "    \n",
    "    #creating the obstacles\n",
    "    while(len(obstacles)<nb_obstacles):\n",
    "        rand_tuple = (np.random.randint(0, x1_size), np.random.randint(0, x2_size))\n",
    "        if rand_tuple not in obstacles and rand_tuple != end_state and rand_tuple != start_state:\n",
    "            obstacles.add(rand_tuple)\n",
    "            states.remove(rand_tuple)\n",
    "            if not isReachable(start_state, end_state, states):\n",
    "                obstacles.remove(rand_tuple)\n",
    "                states.add(rand_tuple)\n",
    "    \n",
    "    #creating checkpoints\n",
    "    while(len(checkpoints)<nb_checkpoints):\n",
    "        rand_tuple = (np.random.randint(0, x1_size), np.random.randint(0, x2_size))\n",
    "        if rand_tuple not in checkpoints and rand_tuple not in obstacles and rand_tuple != end_state and rand_tuple != start_state:\n",
    "            checkpoints.add(rand_tuple)\n",
    "    \n",
    "    print('States:', list(states))\n",
    "    print('Obstacles:', list(obstacles))\n",
    "    print('Checkpoints:',list(checkpoints))\n",
    "    print('End state:', end_state)\n",
    "    \n",
    "    return list(states), end_state, list(checkpoints), list(obstacles)"
   ]
  },
  {
   "cell_type": "markdown",
   "metadata": {},
   "source": [
    "<h3>Setting up the differents states and initializing the state-value and policy functions"
   ]
  },
  {
   "cell_type": "code",
   "execution_count": null,
   "metadata": {},
   "outputs": [],
   "source": [
    "states, end_state, checkpoints, obstacles = createGrid(x1_size, x2_size, nb_obstacles, nb_checkpoints)\n",
    "actions = {'N':(0,1), 'E':(1,0), 'S': (0,-1), 'W': (-1,0)}\n",
    "\n",
    "V = {s: 0 for s in states}\n",
    "P = {s: None for s in states}"
   ]
  },
  {
   "cell_type": "markdown",
   "metadata": {},
   "source": [
    "<h3>Using the value iteration algorithm to determine the state-value and policy of each state"
   ]
  },
  {
   "cell_type": "code",
   "execution_count": null,
   "metadata": {},
   "outputs": [],
   "source": [
    "itera = 0\n",
    "while(dE > thresh and itera < max_itera):\n",
    "    dE = 0\n",
    "    V_ = V.copy() #to not modify the state-value during during the iteration\n",
    "    for s in states:\n",
    "        if s == end_state: #no state-value for the end state\n",
    "            continue\n",
    "        next_states, next_actions = getNextStatesAndNextActions(s, actions, states)\n",
    "        tmp = []\n",
    "        for ns in next_states:\n",
    "            left_state, right_state = getLeftRightNextStates(s, ns, states)\n",
    "            tmp.append(R(ns, checkpoints, end_state, rewards) + discount * (0.8 * V[ns] + 0.1 * V[left_state] + 0.1 * V[right_state])) #storing each next state state-value\n",
    "            \n",
    "        #if a state is surrounded (no possible next states), it becomes an obstacle\n",
    "        if(len(tmp)==0):\n",
    "            V_[s] = V[s]\n",
    "            P[s] = ' '\n",
    "            states.remove(s)\n",
    "            obstacles.append(s)\n",
    "            print(\"Case\",s,'surrounded by obstacles -> it becomes an obstacle' )\n",
    "            continue\n",
    "        \n",
    "        V_[s] = np.max(tmp)                  #choosing the next state that maximize the state-value\n",
    "        P[s] = next_actions[np.argmax(tmp)]  #storing the state to next state action\n",
    "        dE = max(dE, abs(V_[s] - V[s]))      #storing the maximum change during the iteration\n",
    "    V = V_                                 #applying changes\n",
    "    itera+=1"
   ]
  },
  {
   "cell_type": "markdown",
   "metadata": {},
   "source": [
    "<h3> Console print of state_values and policies"
   ]
  },
  {
   "cell_type": "code",
   "execution_count": null,
   "metadata": {},
   "outputs": [],
   "source": [
    "print('Number of iterations = ',itera)\n",
    "\n",
    "#not nice, I apologize\n",
    "print(\"Optimal Value Function:\")\n",
    "for y in reversed(range(0, x2_size)):\n",
    "    print([round(V.get((x, y), 0), 2) for x in range(0, x1_size)])\n",
    "\n",
    "print(\"\\nOptimal Policy:\")\n",
    "for y in reversed(range(0, x2_size)):\n",
    "    print([P.get((x, y), ' ') for x in range(0, x1_size)])"
   ]
  },
  {
   "cell_type": "markdown",
   "metadata": {},
   "source": [
    "<h3> Graphic visualization of policies, with the one used from the start to the end"
   ]
  },
  {
   "cell_type": "code",
   "execution_count": null,
   "metadata": {},
   "outputs": [],
   "source": [
    "import pygame\n",
    "\n",
    "#Parameters\n",
    "grid_size = (x1_size, x2_size)\n",
    "max_size = 800\n",
    "cell_size = min(max_size // grid_size[0], max_size // grid_size[1])\n",
    "width, height = grid_size[0] * cell_size, grid_size[1] * cell_size\n",
    "\n",
    "#Initialization\n",
    "pygame.init()\n",
    "screen = pygame.display.set_mode((width, height))\n",
    "pygame.display.set_caption(\"Grid visualization\")\n",
    "\n",
    "#Grid display\n",
    "def draw_grid():\n",
    "    for x in range(grid_size[0]):\n",
    "        for y in range(grid_size[1]):\n",
    "            rect = pygame.Rect(x * cell_size, (grid_size[1] - 1 - y) * cell_size, cell_size, cell_size)\n",
    "            color = (0, 255, 0) if (x, y) in checkpoints else (255, 255, 255)                            #checkpoints in green, obstacles in black, available cases in white\n",
    "            if (x, y) in obstacles:\n",
    "                color = (0, 0, 0)\n",
    "            pygame.draw.rect(screen, color, rect)\n",
    "            pygame.draw.rect(screen, (0, 0, 0), rect, 1)\n",
    "            \n",
    "            if (x, y) in P:\n",
    "                draw_arrow(x, y, P[(x, y)], (0, 0, 0))\n",
    "    \n",
    "    font = pygame.font.Font(None, int(cell_size / 1.8))\n",
    "    end_text = font.render(\"End\", True, (255, 0, 0))\n",
    "    screen.blit(end_text, ((grid_size[0] - 1) * cell_size + 5, 5))\n",
    "\n",
    "#Arrows display\n",
    "def draw_arrow(x, y, direction, color):\n",
    "    center = (x * cell_size + cell_size // 2, (grid_size[1] - 1 - y) * cell_size + cell_size // 2)\n",
    "    if direction == \"N\":\n",
    "        pygame.draw.polygon(screen, color, [(center[0], center[1] - 10), (center[0] - 10, center[1] + 10), (center[0] + 10, center[1] + 10)])\n",
    "    elif direction == \"S\":\n",
    "        pygame.draw.polygon(screen, color, [(center[0], center[1] + 10), (center[0] - 10, center[1] - 10), (center[0] + 10, center[1] - 10)])\n",
    "    elif direction == \"E\":\n",
    "        pygame.draw.polygon(screen, color, [(center[0] + 10, center[1]), (center[0] - 10, center[1] - 10), (center[0] - 10, center[1] + 10)])\n",
    "    elif direction == \"W\":\n",
    "        pygame.draw.polygon(screen, color, [(center[0] - 10, center[1]), (center[0] + 10, center[1] - 10), (center[0] + 10, center[1] + 10)])\n",
    "\n",
    "#Drawing the way from the start to the end in red\n",
    "def draw_path():\n",
    "    x, y = 0, 0\n",
    "    path_color = (255, 0, 0)\n",
    "    visited = set()\n",
    "    while (x, y) != (grid_size[0] - 1, grid_size[1] - 1):\n",
    "        if (x, y) not in P or (x, y) in visited:\n",
    "            break\n",
    "        visited.add((x, y))\n",
    "        arrow = P[(x, y)]\n",
    "        next_x, next_y = x, y\n",
    "        if arrow == \"N\":\n",
    "            next_y += 1\n",
    "        elif arrow == \"S\":\n",
    "            next_y -= 1\n",
    "        elif arrow == \"E\":\n",
    "            next_x += 1\n",
    "        elif arrow == \"W\":\n",
    "            next_x -= 1\n",
    "        \n",
    "        #No infinite loops for the red arrows\n",
    "        if (next_x, next_y) in visited:\n",
    "            break\n",
    "        \n",
    "        draw_arrow(x, y, arrow, path_color)\n",
    "        x, y = next_x, next_y\n",
    "\n",
    "#Main\n",
    "running = True\n",
    "while running:\n",
    "    screen.fill((200, 200, 200))\n",
    "    draw_grid()\n",
    "    draw_path()\n",
    "    pygame.display.flip()\n",
    "    \n",
    "    for event in pygame.event.get():\n",
    "        if event.type == pygame.QUIT:\n",
    "            running = False\n",
    "\n",
    "pygame.quit()"
   ]
  }
 ],
 "metadata": {
  "kernelspec": {
   "display_name": "base",
   "language": "python",
   "name": "python3"
  },
  "language_info": {
   "codemirror_mode": {
    "name": "ipython",
    "version": 3
   },
   "file_extension": ".py",
   "mimetype": "text/x-python",
   "name": "python",
   "nbconvert_exporter": "python",
   "pygments_lexer": "ipython3",
   "version": "3.12.7"
  }
 },
 "nbformat": 4,
 "nbformat_minor": 2
}
